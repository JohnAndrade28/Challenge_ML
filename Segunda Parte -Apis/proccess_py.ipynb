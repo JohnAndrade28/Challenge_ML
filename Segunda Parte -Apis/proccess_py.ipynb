{
 "cells": [
  {
   "cell_type": "markdown",
   "metadata": {},
   "source": [
    "Consignas\n",
    "1) Barrer una lista de más de 150 ítems ids en el servicio público:\n",
    "https://api.mercadolibre.com/sites/MLA/search?q=chromecast&limit=50#json\n",
    "En este caso particular y solo a modo de ejemplo, son resultados para la búsqueda\n",
    "“chromecast”, pero deberás elegir otros términos para el experimento que permitan\n",
    "enriquecer el análisis en un hipotético dashboard (ejemplo Google Home, Apple TV,\n",
    "Amazon Fire TV, o afines para poder comparar dispositivos portátiles, o bien elegir\n",
    "otros 3 que te interesen para comparar).\n",
    "2) Por cada resultado, realizar el correspondiente GET por Item_Id al recurso público:\n",
    "https://api.mercadolibre.com/items/{Item_Id}\n",
    "3) Escribir los resultados en un archivo plano delimitado por comas, desnormalizando\n",
    "el JSON obtenido en el paso anterior, en tantos campos como sea necesario para\n",
    "guardar las variables que te interesen modelar"
   ]
  },
  {
   "cell_type": "code",
   "execution_count": null,
   "metadata": {},
   "outputs": [],
   "source": [
    "import requests\n",
    "import pandas as pd\n",
    "import seaborn as sns\n",
    "pd.set_option('display.max_columns', None)\n",
    "pd.set_option('display.max_rows', None)"
   ]
  },
  {
   "cell_type": "markdown",
   "metadata": {},
   "source": [
    "## chromecast"
   ]
  },
  {
   "cell_type": "code",
   "execution_count": null,
   "metadata": {},
   "outputs": [],
   "source": [
    "df = pd.DataFrame(requests.get(\"https://api.mercadolibre.com/sites/MLA/search?q=chromecast&limit=50#json\").json()['results'])\n",
    "df['amount'] = df.installments.map(lambda x: x['amount'])\n",
    "df['rate'] = df.installments.map(lambda x: x['rate'])\n",
    "\n",
    "price_median_chromecast = df.price.median()\n",
    "amount_median_chromecast = df.amount.median()\n",
    "rate_median_chromecast = df.rate.median()"
   ]
  },
  {
   "cell_type": "markdown",
   "metadata": {},
   "source": [
    "## Tv Apple"
   ]
  },
  {
   "cell_type": "code",
   "execution_count": null,
   "metadata": {},
   "outputs": [],
   "source": [
    "df = pd.DataFrame(requests.get(\"https://api.mercadolibre.com/sites/MLA/search?q=TV Apple&limit=50#json\").json()['results'])\n",
    "df['amount'] = df.installments.map(lambda x: x['amount'])\n",
    "df['rate'] = df.installments.map(lambda x: x['rate'])\n",
    "\n",
    "price_median_tvApple = df.price.median()\n",
    "amount_median_tvApple = df.amount.median()\n",
    "rate_median_tvApple = df.rate.median()"
   ]
  },
  {
   "cell_type": "markdown",
   "metadata": {},
   "source": [
    "## Amazon Fire TV"
   ]
  },
  {
   "cell_type": "code",
   "execution_count": null,
   "metadata": {},
   "outputs": [],
   "source": [
    "df = pd.DataFrame(requests.get(\"https://api.mercadolibre.com/sites/MLA/search?q=Amazon Fire TV&limit=50#json\").json()['results'])\n",
    "df['amount'] = df.installments.map(lambda x: x['amount'])\n",
    "df['rate'] = df.installments.map(lambda x: x['rate'])\n",
    "\n",
    "price_median_amazonFireTv = df.price.median()\n",
    "amount_median_amazonFireTv = df.amount.median()\n",
    "rate_median_amazonFireTv = df.rate.median()"
   ]
  },
  {
   "cell_type": "code",
   "execution_count": null,
   "metadata": {},
   "outputs": [],
   "source": [
    "serie_class = pd.Series(['Chromecast','Tv Apple','Amazon Fire TV'])\n",
    "serie_price_median = pd.Series([price_median_chromecast,price_median_tvApple,price_median_amazonFireTv])\n",
    "serie_amount_median = pd.Series([amount_median_chromecast,amount_median_tvApple,amount_median_amazonFireTv])\n",
    "serie_rate_median = pd.Series([rate_median_chromecast,rate_median_tvApple,rate_median_amazonFireTv])"
   ]
  },
  {
   "cell_type": "code",
   "execution_count": null,
   "metadata": {},
   "outputs": [],
   "source": [
    "df_price = pd.DataFrame({'products':serie_class,'values':serie_price_median})\n",
    "df_price['type'] = 'price'\n",
    "df_price"
   ]
  },
  {
   "cell_type": "code",
   "execution_count": null,
   "metadata": {},
   "outputs": [],
   "source": [
    "df_amount = pd.DataFrame({'products':serie_class,'values':serie_amount_median})\n",
    "df_amount['type'] = 'amount'\n",
    "df_amount"
   ]
  },
  {
   "cell_type": "code",
   "execution_count": null,
   "metadata": {},
   "outputs": [],
   "source": [
    "df_rate = pd.DataFrame({'products':serie_class,'values':serie_rate_median})\n",
    "df_rate['type'] = 'rate'\n",
    "df_rate"
   ]
  },
  {
   "cell_type": "code",
   "execution_count": null,
   "metadata": {},
   "outputs": [],
   "source": [
    "df = pd.concat([df_price,df_amount,df_rate],axis=0)"
   ]
  },
  {
   "cell_type": "code",
   "execution_count": null,
   "metadata": {},
   "outputs": [],
   "source": []
  },
  {
   "cell_type": "code",
   "execution_count": null,
   "metadata": {},
   "outputs": [],
   "source": []
  },
  {
   "cell_type": "markdown",
   "metadata": {},
   "source": [
    "## Comparativa Dispositivos Moviles"
   ]
  },
  {
   "cell_type": "code",
   "execution_count": null,
   "metadata": {},
   "outputs": [],
   "source": [
    "sns.factorplot(x='products', y='values', hue='type', data=df_price, kind='bar')"
   ]
  },
  {
   "cell_type": "code",
   "execution_count": null,
   "metadata": {},
   "outputs": [],
   "source": [
    "sns.factorplot(x='products', y='values', hue='type',data=df_amount, kind='bar')"
   ]
  },
  {
   "cell_type": "code",
   "execution_count": null,
   "metadata": {},
   "outputs": [],
   "source": [
    "sns.factorplot(x='products', y='values', hue='type', data=df_rate, kind='bar')"
   ]
  },
  {
   "cell_type": "code",
   "execution_count": null,
   "metadata": {},
   "outputs": [],
   "source": [
    "sns.factorplot(x='products', y='values', hue='type', data=df, kind='bar')"
   ]
  },
  {
   "cell_type": "code",
   "execution_count": null,
   "metadata": {},
   "outputs": [],
   "source": []
  },
  {
   "cell_type": "markdown",
   "metadata": {},
   "source": [
    "# 2"
   ]
  },
  {
   "cell_type": "code",
   "execution_count": null,
   "metadata": {},
   "outputs": [],
   "source": [
    "df = pd.DataFrame(requests.get(\"https://api.mercadolibre.com/sites/MLA/search?q=chromecast&limit=50#json\").json()['results'])\n",
    "df['amount'] = df.installments.map(lambda x: x['amount'])\n",
    "df['rate'] = df.installments.map(lambda x: x['rate'])"
   ]
  },
  {
   "cell_type": "code",
   "execution_count": null,
   "metadata": {},
   "outputs": [],
   "source": [
    "for indx, i in enumerate(df['id']):\n",
    "    print(indx)\n",
    "    if indx==0:\n",
    "        json_get = requests.get(\"https://api.mercadolibre.com/items/\"+i).json()\n",
    "        df = pd.DataFrame(requests.get(\"https://api.mercadolibre.com/items/\"+i).json()['sale_terms'])\n",
    "        df['id'] = json_get['id']\n",
    "        df['site_id'] = json_get['site_id']\n",
    "        df['title'] = json_get['title']\n",
    "        df['subtitle'] = json_get['subtitle']\n",
    "        df['seller_id'] = json_get['seller_id']\n",
    "        df['category_id'] = json_get['category_id']\n",
    "        df['official_store_id'] = json_get['official_store_id']\n",
    "        df['price'] = json_get['price']\n",
    "        df['base_price'] = json_get['base_price']\n",
    "        df['original_price'] = json_get['original_price']\n",
    "        df['currency_id'] = json_get['currency_id']\n",
    "        df['initial_quantity'] = json_get['initial_quantity']\n",
    "        df['available_quantity'] = json_get['available_quantity']\n",
    "        df['sold_quantity'] = json_get['sold_quantity']\n",
    "    else:\n",
    "        json_get = requests.get(\"https://api.mercadolibre.com/items/\"+i).json()\n",
    "        df_aux = pd.DataFrame(requests.get(\"https://api.mercadolibre.com/items/\"+i).json()['sale_terms'])\n",
    "        df_aux['id'] = json_get['id']\n",
    "        df_aux['site_id'] = json_get['site_id']\n",
    "        df_aux['title'] = json_get['title']\n",
    "        df_aux['subtitle'] = json_get['subtitle']\n",
    "        df_aux['seller_id'] = json_get['seller_id']\n",
    "        df_aux['category_id'] = json_get['category_id']\n",
    "        df_aux['official_store_id'] = json_get['official_store_id']\n",
    "        df_aux['price'] = json_get['price']\n",
    "        df_aux['base_price'] = json_get['base_price']\n",
    "        df_aux['original_price'] = json_get['original_price']\n",
    "        df_aux['currency_id'] = json_get['currency_id']\n",
    "        df_aux['initial_quantity'] = json_get['initial_quantity']\n",
    "        df_aux['available_quantity'] = json_get['available_quantity']\n",
    "        df_aux['sold_quantity'] = json_get['sold_quantity']\n",
    "        \n",
    "        df = pd.concat([df,df_aux],axis=0)"
   ]
  },
  {
   "cell_type": "code",
   "execution_count": null,
   "metadata": {},
   "outputs": [],
   "source": [
    "df.to_csv('get_data_process.csv',sep='|',index=False)"
   ]
  },
  {
   "cell_type": "code",
   "execution_count": null,
   "metadata": {},
   "outputs": [],
   "source": []
  },
  {
   "cell_type": "code",
   "execution_count": null,
   "metadata": {},
   "outputs": [],
   "source": []
  },
  {
   "cell_type": "code",
   "execution_count": null,
   "metadata": {},
   "outputs": [],
   "source": []
  },
  {
   "cell_type": "code",
   "execution_count": null,
   "metadata": {},
   "outputs": [],
   "source": []
  },
  {
   "cell_type": "code",
   "execution_count": null,
   "metadata": {},
   "outputs": [],
   "source": []
  },
  {
   "cell_type": "code",
   "execution_count": null,
   "metadata": {},
   "outputs": [],
   "source": []
  },
  {
   "cell_type": "code",
   "execution_count": null,
   "metadata": {},
   "outputs": [],
   "source": []
  },
  {
   "cell_type": "code",
   "execution_count": null,
   "metadata": {},
   "outputs": [],
   "source": []
  },
  {
   "cell_type": "code",
   "execution_count": null,
   "metadata": {},
   "outputs": [],
   "source": []
  }
 ],
 "metadata": {
  "kernelspec": {
   "display_name": "Python 3.10.7 64-bit",
   "language": "python",
   "name": "python3"
  },
  "language_info": {
   "codemirror_mode": {
    "name": "ipython",
    "version": 3
   },
   "file_extension": ".py",
   "mimetype": "text/x-python",
   "name": "python",
   "nbconvert_exporter": "python",
   "pygments_lexer": "ipython3",
   "version": "3.10.7"
  },
  "vscode": {
   "interpreter": {
    "hash": "369f2c481f4da34e4445cda3fffd2e751bd1c4d706f27375911949ba6bb62e1c"
   }
  }
 },
 "nbformat": 4,
 "nbformat_minor": 2
}
